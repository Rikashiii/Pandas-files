{
 "cells": [
  {
   "cell_type": "code",
   "execution_count": 2,
   "id": "e34ba79b-7b81-4755-8495-48926ba96566",
   "metadata": {},
   "outputs": [],
   "source": [
    "#import statements\n",
    "import numpy as np\n",
    "import pandas as pd"
   ]
  },
  {
   "cell_type": "code",
   "execution_count": 4,
   "id": "248c0783-dde0-4d71-83e9-f299caa2d54d",
   "metadata": {},
   "outputs": [],
   "source": [
    "student_data = {\n",
    "    'Name': ['Amanda', 'Britney', 'Charlie', 'David', 'Eve', 'Frank'],\n",
    "    'Age': [21, 22, 21, 23, 22, 21],\n",
    "    'Department': ['CSE', 'Mech', 'CSE', 'EEE', 'Mech', 'CSE'],\n",
    "    '%Marks': [88, 91, 95, 82, 85, 93]\n",
    "}\n",
    "#dataframe\n",
    "df_students = pd.DataFrame(student_data)"
   ]
  },
  {
   "cell_type": "code",
   "execution_count": 6,
   "id": "5a26d969-81cc-4d3a-b975-37dd8fd15f95",
   "metadata": {},
   "outputs": [
    {
     "name": "stdout",
     "output_type": "stream",
     "text": [
      "Student dataframe:        Name  Age Department  %Marks\n",
      "0   Amanda   21        CSE      88\n",
      "1  Britney   22       Mech      91\n",
      "2  Charlie   21        CSE      95\n",
      "3    David   23        EEE      82\n",
      "4      Eve   22       Mech      85\n",
      "5    Frank   21        CSE      93\n"
     ]
    }
   ],
   "source": [
    "print(\"Student dataframe: \",df_students)"
   ]
  },
  {
   "cell_type": "code",
   "execution_count": 8,
   "id": "7be238e5-00a7-48d3-a4dd-b8995a5843d4",
   "metadata": {},
   "outputs": [
    {
     "name": "stdout",
     "output_type": "stream",
     "text": [
      "Column names:  Index(['Name', 'Age', 'Department', '%Marks'], dtype='object')\n"
     ]
    }
   ],
   "source": [
    "colnames = df_students.columns\n",
    "print(\"Column names: \",colnames)"
   ]
  },
  {
   "cell_type": "code",
   "execution_count": 10,
   "id": "b13950d0-1fdc-4eed-84f3-002abd3725ae",
   "metadata": {},
   "outputs": [],
   "source": [
    "marks = df_students[\"%Marks\"]\n",
    "min_marks = marks.min()\n",
    "max_marks = marks.max()\n",
    "avg_marks = marks.mean()"
   ]
  },
  {
   "cell_type": "code",
   "execution_count": 13,
   "id": "9424ddaa-c5af-4cd5-b439-586db2d28939",
   "metadata": {},
   "outputs": [
    {
     "name": "stdout",
     "output_type": "stream",
     "text": [
      "min marks: 82\n",
      "\n",
      "max marks: 95\n",
      "\n",
      "avg marks: 89.0\n",
      "\n"
     ]
    }
   ],
   "source": [
    "print(f'''min marks: {min_marks}\\n\n",
    "max marks: {max_marks}\\n\n",
    "avg marks: {avg_marks}\\n''')"
   ]
  },
  {
   "cell_type": "code",
   "execution_count": 14,
   "id": "19fffaeb-bd72-4b7c-8a11-155f09d5c874",
   "metadata": {},
   "outputs": [
    {
     "name": "stdout",
     "output_type": "stream",
     "text": [
      "Unique departments:  ['CSE' 'Mech' 'EEE']\n"
     ]
    }
   ],
   "source": [
    "unidepts = df_students['Department'].unique()\n",
    "print(\"Unique departments: \",unidepts)"
   ]
  },
  {
   "cell_type": "code",
   "execution_count": 18,
   "id": "741eb8e5-4c17-4c8f-b9a8-73b3c35086f6",
   "metadata": {},
   "outputs": [
    {
     "name": "stdout",
     "output_type": "stream",
     "text": [
      "Student count : Department\n",
      "CSE     3\n",
      "Mech    2\n",
      "EEE     1\n",
      "Name: count, dtype: int64\n"
     ]
    }
   ],
   "source": [
    "stucounts = df_students['Department'].value_counts()\n",
    "print(\"Student count :\",stucounts)"
   ]
  },
  {
   "cell_type": "code",
   "execution_count": null,
   "id": "9580152b-0780-48c9-98dc-1029c607d263",
   "metadata": {},
   "outputs": [],
   "source": []
  }
 ],
 "metadata": {
  "kernelspec": {
   "display_name": "Python [conda env:base] *",
   "language": "python",
   "name": "conda-base-py"
  },
  "language_info": {
   "codemirror_mode": {
    "name": "ipython",
    "version": 3
   },
   "file_extension": ".py",
   "mimetype": "text/x-python",
   "name": "python",
   "nbconvert_exporter": "python",
   "pygments_lexer": "ipython3",
   "version": "3.13.5"
  }
 },
 "nbformat": 4,
 "nbformat_minor": 5
}
