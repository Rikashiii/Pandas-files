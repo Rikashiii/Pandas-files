{
 "cells": [
  {
   "cell_type": "code",
   "execution_count": 1,
   "id": "0f65965a-8c13-4d84-b886-682c3acbd2df",
   "metadata": {},
   "outputs": [],
   "source": [
    "import numpy as np\n",
    "import pandas as pd"
   ]
  },
  {
   "cell_type": "code",
   "execution_count": 16,
   "id": "fbc3963d-b74c-4aa4-850b-415857639ecb",
   "metadata": {},
   "outputs": [],
   "source": [
    "df_solar = pd.read_csv(\"solar.csv\")"
   ]
  },
  {
   "cell_type": "code",
   "execution_count": 3,
   "id": "e0fb2778-7adf-4100-b5d3-a819ed3b0b98",
   "metadata": {},
   "outputs": [
    {
     "name": "stdout",
     "output_type": "stream",
     "text": [
      "   Unnamed: 0           State  Number of Solar Plants  \\\n",
      "0           0      California                     289   \n",
      "1           1         Arizona                      48   \n",
      "6           6  North Carolina                     148   \n",
      "\n",
      "   Installed Capacity (MW)  Average MW Per Plant  Generation (GWh) region  \n",
      "0                     4395                  15.3             10826   West  \n",
      "1                     1078                  22.5              2550   West  \n",
      "6                      669                   4.5              1162  South  \n"
     ]
    }
   ],
   "source": [
    "print(df_solar[df_solar[\"Installed Capacity (MW)\"]>500])"
   ]
  },
  {
   "cell_type": "code",
   "execution_count": 4,
   "id": "cf30bd4f-9a5f-4ed7-bf28-5760540982df",
   "metadata": {},
   "outputs": [
    {
     "name": "stdout",
     "output_type": "stream",
     "text": [
      "   Unnamed: 0     State  Number of Solar Plants  Installed Capacity (MW)  \\\n",
      "7           7  New York                      13                       53   \n",
      "\n",
      "   Average MW Per Plant  Generation (GWh) region  \n",
      "7                   4.1                84   East  \n"
     ]
    }
   ],
   "source": [
    "NYplants = df_solar[df_solar[\"State\"]==\"New York\"]\n",
    "print(NYplants)"
   ]
  },
  {
   "cell_type": "code",
   "execution_count": 5,
   "id": "d400745d-3efb-48a3-9c19-a2a3731a1236",
   "metadata": {},
   "outputs": [
    {
     "name": "stdout",
     "output_type": "stream",
     "text": [
      "   Average MW Per Plant  Generation (GWh)\n",
      "0                  15.3             10826\n",
      "1                  22.5              2550\n",
      "2                  21.6               557\n",
      "3                   7.9               590\n",
      "4                   5.9               235\n",
      "5                  15.6               354\n",
      "6                   4.5              1162\n",
      "7                   4.1                84\n"
     ]
    }
   ],
   "source": [
    "avgMWGWh = df_solar[[\"Average MW Per Plant\", \"Generation (GWh)\"]]\n",
    "print(avgMWGWh)"
   ]
  },
  {
   "cell_type": "code",
   "execution_count": 6,
   "id": "22eb6cdc-0cd6-4529-a23d-53dd091acd69",
   "metadata": {},
   "outputs": [
    {
     "name": "stdout",
     "output_type": "stream",
     "text": [
      "   Unnamed: 0           State  Number of Solar Plants  \\\n",
      "7           7        New York                      13   \n",
      "6           6  North Carolina                     148   \n",
      "4           4        Colorado                      20   \n",
      "3           3      New Mexico                      33   \n",
      "0           0      California                     289   \n",
      "5           5           Texas                      12   \n",
      "2           2          Nevada                      11   \n",
      "1           1         Arizona                      48   \n",
      "\n",
      "   Installed Capacity (MW)  Average MW Per Plant  Generation (GWh) region  \n",
      "7                       53                   4.1                84   East  \n",
      "6                      669                   4.5              1162  South  \n",
      "4                      118                   5.9               235   West  \n",
      "3                      261                   7.9               590   West  \n",
      "0                     4395                  15.3             10826   West  \n",
      "5                      187                  15.6               354  South  \n",
      "2                      238                  21.6               557   West  \n",
      "1                     1078                  22.5              2550   West  \n"
     ]
    }
   ],
   "source": [
    "MWsort = df_solar.sort_values(by=[\"Average MW Per Plant\",\"Generation (GWh)\"],ascending=[True,False])\n",
    "print(MWsort)"
   ]
  },
  {
   "cell_type": "code",
   "execution_count": 7,
   "id": "cd81cd7c-de31-4085-bbbe-8705e21899d6",
   "metadata": {},
   "outputs": [
    {
     "name": "stdout",
     "output_type": "stream",
     "text": [
      "   Unnamed: 0           State  Number of Solar Plants  \\\n",
      "0           0      California                     289   \n",
      "1           1         Arizona                      48   \n",
      "6           6  North Carolina                     148   \n",
      "3           3      New Mexico                      33   \n",
      "2           2          Nevada                      11   \n",
      "\n",
      "   Installed Capacity (MW)  Average MW Per Plant  Generation (GWh) region  \n",
      "0                     4395                  15.3             10826   West  \n",
      "1                     1078                  22.5              2550   West  \n",
      "6                      669                   4.5              1162  South  \n",
      "3                      261                   7.9               590   West  \n",
      "2                      238                  21.6               557   West  \n"
     ]
    }
   ],
   "source": [
    "top5 = df_solar.sort_values(by=\"Generation (GWh)\", ascending=False).head(5)\n",
    "print(top5)"
   ]
  },
  {
   "cell_type": "code",
   "execution_count": 11,
   "id": "ddddb8fd-90ce-4841-b134-9724e463a97b",
   "metadata": {},
   "outputs": [
    {
     "name": "stdout",
     "output_type": "stream",
     "text": [
      "   Unnamed: 0       State  Number of Solar Plants  Installed Capacity (MW)  \\\n",
      "0         0.0  California                     289                     4395   \n",
      "1         1.0     Arizona                      48                     1078   \n",
      "2         2.0      Nevada                      11                      238   \n",
      "5         5.0       Texas                      12                      187   \n",
      "\n",
      "   Average MW Per Plant  Generation (GWh) region  \n",
      "0                  15.3             10826   West  \n",
      "1                  22.5              2550   West  \n",
      "2                  21.6               557   West  \n",
      "5                  15.6               354  South  \n"
     ]
    }
   ],
   "source": [
    "states = [\"California\", \"Nevada\", \"Arizona\", \"Texas\"]\n",
    "selection = df_solar[df_solar[\"State\"].isin(states)]\n",
    "print(selection)"
   ]
  },
  {
   "cell_type": "code",
   "execution_count": 12,
   "id": "d3b74353-4680-4948-95ec-413699767cac",
   "metadata": {},
   "outputs": [
    {
     "name": "stdout",
     "output_type": "stream",
     "text": [
      "\n",
      "Minimum and Maximum capacity by region:\n",
      "         min   max\n",
      "region           \n",
      "East     53    53\n",
      "South   187   669\n",
      "West    118  4395\n"
     ]
    }
   ],
   "source": [
    "region_capacity = df_solar.groupby('region')['Installed Capacity (MW)'].agg(['min', 'max'])\n",
    "print(\"\\nMinimum and Maximum capacity by region:\\n\",region_capacity)"
   ]
  },
  {
   "cell_type": "code",
   "execution_count": 13,
   "id": "4615ea43-3e18-44a2-9a01-78aa52c4ac47",
   "metadata": {},
   "outputs": [],
   "source": [
    "df_solar = df_solar[df_solar['State'] != 'North Carolina']"
   ]
  },
  {
   "cell_type": "code",
   "execution_count": 14,
   "id": "923a22eb-3894-45fe-b12e-8993a984e9f0",
   "metadata": {},
   "outputs": [],
   "source": [
    "new_row = {\n",
    "    'State': 'North Carolina',\n",
    "    'Number of Solar Plants': 148,\n",
    "    'Installed Capacity (MW)': 669,\n",
    "    'Average MW Per Plant': 4.5,\n",
    "    'Generation (GWh)': 1162,\n",
    "    'region': 'South'\n",
    "}\n",
    "new_row_df = pd.DataFrame([new_row])\n",
    "df_solar = pd.concat([df_solar, new_row_df], ignore_index=True)"
   ]
  },
  {
   "cell_type": "code",
   "execution_count": 17,
   "id": "e01b31cc-22fb-4d85-a091-3a84bfe1af35",
   "metadata": {
    "scrolled": true
   },
   "outputs": [
    {
     "name": "stdout",
     "output_type": "stream",
     "text": [
      "   Unnamed: 0           State  Number of Solar Plants  \\\n",
      "0           0      California                     289   \n",
      "1           1         Arizona                      48   \n",
      "2           2          Nevada                      11   \n",
      "3           3      New Mexico                      33   \n",
      "4           4        Colorado                      20   \n",
      "5           5           Texas                      12   \n",
      "6           6  North Carolina                     148   \n",
      "7           7        New York                      13   \n",
      "\n",
      "   Installed Capacity (MW)  Average MW Per Plant  Generation (GWh) region  \n",
      "0                     4395                  15.3             10826   West  \n",
      "1                     1078                  22.5              2550   West  \n",
      "2                      238                  21.6               557   West  \n",
      "3                      261                   7.9               590   West  \n",
      "4                      118                   5.9               235   West  \n",
      "5                      187                  15.6               354  South  \n",
      "6                      669                   4.5              1162  South  \n",
      "7                       53                   4.1                84   East  \n"
     ]
    }
   ],
   "source": [
    "print(df_solar)"
   ]
  },
  {
   "cell_type": "code",
   "execution_count": null,
   "id": "7ab504dd-c76b-4b13-abd0-6e192a7f7ff0",
   "metadata": {},
   "outputs": [],
   "source": []
  },
  {
   "cell_type": "code",
   "execution_count": null,
   "id": "f01cf6c7-2cad-4809-843b-cf6902916270",
   "metadata": {},
   "outputs": [],
   "source": []
  }
 ],
 "metadata": {
  "kernelspec": {
   "display_name": "Python [conda env:base] *",
   "language": "python",
   "name": "conda-base-py"
  },
  "language_info": {
   "codemirror_mode": {
    "name": "ipython",
    "version": 3
   },
   "file_extension": ".py",
   "mimetype": "text/x-python",
   "name": "python",
   "nbconvert_exporter": "python",
   "pygments_lexer": "ipython3",
   "version": "3.13.5"
  }
 },
 "nbformat": 4,
 "nbformat_minor": 5
}
