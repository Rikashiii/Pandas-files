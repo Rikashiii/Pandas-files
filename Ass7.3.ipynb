{
 "cells": [
  {
   "cell_type": "code",
   "execution_count": 1,
   "id": "66c9ac36-6026-4d30-afa0-74b94a821329",
   "metadata": {},
   "outputs": [],
   "source": [
    "import numpy as np\n",
    "import pandas as pd"
   ]
  },
  {
   "cell_type": "code",
   "execution_count": 3,
   "id": "c639762a-6cd5-4a4b-a768-c273605c6497",
   "metadata": {},
   "outputs": [],
   "source": [
    "df = pd.read_csv('gapminder2007.csv')"
   ]
  },
  {
   "cell_type": "code",
   "execution_count": 4,
   "id": "cba6ebcd-18b5-4e8b-b2bf-31dc66644c22",
   "metadata": {},
   "outputs": [
    {
     "name": "stdout",
     "output_type": "stream",
     "text": [
      "                country         pop continent  lifeExp     gdpPercap\n",
      "0           Afghanistan    31889923      Asia   43.828    974.580338\n",
      "7               Bahrain      708573      Asia   75.635  29796.048340\n",
      "8            Bangladesh   150448339      Asia   64.062   1391.253792\n",
      "18             Cambodia    14131858      Asia   59.723   1713.778686\n",
      "24                China  1318683096      Asia   72.961   4959.114854\n",
      "55     Hong Kong, China     6980412      Asia   82.208  39724.978670\n",
      "58                India  1110396331      Asia   64.698   2452.210407\n",
      "59            Indonesia   223547000      Asia   70.650   3540.651564\n",
      "60                 Iran    69453570      Asia   70.964  11605.714490\n",
      "61                 Iraq    27499638      Asia   59.545   4471.061906\n",
      "63               Israel     6426679      Asia   80.745  25523.277100\n",
      "66                Japan   127467972      Asia   82.603  31656.068060\n",
      "67               Jordan     6053193      Asia   72.535   4519.461171\n",
      "69     Korea, Dem. Rep.    23301725      Asia   67.297   1593.065480\n",
      "70          Korea, Rep.    49044790      Asia   78.623  23348.139730\n",
      "71               Kuwait     2505559      Asia   77.588  47306.989780\n",
      "72              Lebanon     3921278      Asia   71.993  10461.058680\n",
      "78             Malaysia    24821286      Asia   74.241  12451.655800\n",
      "83             Mongolia     2874127      Asia   66.803   3095.772271\n",
      "87              Myanmar    47761980      Asia   62.069    944.000000\n",
      "89                Nepal    28901790      Asia   63.785   1091.359778\n",
      "96                 Oman     3204897      Asia   75.640  22316.192870\n",
      "97             Pakistan   169270617      Asia   65.483   2605.947580\n",
      "101         Philippines    91077287      Asia   71.688   3190.481016\n",
      "109        Saudi Arabia    27601038      Asia   72.777  21654.831940\n",
      "113           Singapore     4553009      Asia   79.972  47143.179640\n",
      "119           Sri Lanka    20378239      Asia   72.396   3970.095407\n",
      "124               Syria    19314747      Asia   74.143   4184.548089\n",
      "125              Taiwan    23174294      Asia   78.400  28718.276840\n",
      "127            Thailand    65068149      Asia   70.616   7458.396327\n",
      "137             Vietnam    85262356      Asia   74.249   2441.576404\n",
      "138  West Bank and Gaza     4018332      Asia   73.422   3025.349798\n",
      "139         Yemen, Rep.    22211743      Asia   62.698   2280.769906\n"
     ]
    }
   ],
   "source": [
    "asia_df = df[df['continent'] == 'Asia']\n",
    "print(asia_df)"
   ]
  },
  {
   "cell_type": "code",
   "execution_count": 6,
   "id": "a122f82c-4dda-4de9-9bb3-bed8f07af21b",
   "metadata": {},
   "outputs": [
    {
     "name": "stdout",
     "output_type": "stream",
     "text": [
      "Top 15 rows: \n",
      "                    country        pop continent  lifeExp     gdpPercap\n",
      "0              Afghanistan   31889923      Asia   43.828    974.580338\n",
      "1                  Albania    3600523    Europe   76.423   5937.029526\n",
      "2                  Algeria   33333216    Africa   72.301   6223.367465\n",
      "3                   Angola   12420476    Africa   42.731   4797.231267\n",
      "4                Argentina   40301927  Americas   75.320  12779.379640\n",
      "5                Australia   20434176   Oceania   81.235  34435.367440\n",
      "6                  Austria    8199783    Europe   79.829  36126.492700\n",
      "7                  Bahrain     708573      Asia   75.635  29796.048340\n",
      "8               Bangladesh  150448339      Asia   64.062   1391.253792\n",
      "9                  Belgium   10392226    Europe   79.441  33692.605080\n",
      "10                   Benin    8078314    Africa   56.728   1441.284873\n",
      "11                 Bolivia    9119152  Americas   65.554   3822.137084\n",
      "12  Bosnia and Herzegovina    4552198    Europe   74.852   7446.298803\n",
      "13                Botswana    1639131    Africa   50.728  12569.851770\n",
      "14                  Brazil  190010647  Americas   72.390   9065.800825\n",
      "Bottom 15 rows: \n",
      "                  country        pop continent  lifeExp     gdpPercap\n",
      "127             Thailand   65068149      Asia   70.616   7458.396327\n",
      "128                 Togo    5701579    Africa   58.420    882.969944\n",
      "129  Trinidad and Tobago    1056608  Americas   69.819  18008.509240\n",
      "130              Tunisia   10276158    Africa   73.923   7092.923025\n",
      "131               Turkey   71158647    Europe   71.777   8458.276384\n",
      "132               Uganda   29170398    Africa   51.542   1056.380121\n",
      "133       United Kingdom   60776238    Europe   79.425  33203.261280\n",
      "134        United States  301139947  Americas   78.242  42951.653090\n",
      "135              Uruguay    3447496  Americas   76.384  10611.462990\n",
      "136            Venezuela   26084662  Americas   73.747  11415.805690\n",
      "137              Vietnam   85262356      Asia   74.249   2441.576404\n",
      "138   West Bank and Gaza    4018332      Asia   73.422   3025.349798\n",
      "139          Yemen, Rep.   22211743      Asia   62.698   2280.769906\n",
      "140               Zambia   11746035    Africa   42.384   1271.211593\n",
      "141             Zimbabwe   12311143    Africa   43.487    469.709298\n"
     ]
    }
   ],
   "source": [
    "print(\"Top 15 rows: \\n\",df.head(15))\n",
    "print(\"Bottom 15 rows: \\n\",df.tail(15))"
   ]
  },
  {
   "cell_type": "code",
   "execution_count": 7,
   "id": "7fc11b63-75ad-4ef2-8ae1-ba4065003005",
   "metadata": {},
   "outputs": [
    {
     "name": "stdout",
     "output_type": "stream",
     "text": [
      "                country       pop continent  lifeExp     gdpPercap\n",
      "1               Albania   3600523    Europe   76.423   5937.029526\n",
      "2               Algeria  33333216    Africa   72.301   6223.367465\n",
      "4             Argentina  40301927  Americas   75.320  12779.379640\n",
      "6               Austria   8199783    Europe   79.829  36126.492700\n",
      "7               Bahrain    708573      Asia   75.635  29796.048340\n",
      "..                  ...       ...       ...      ...           ...\n",
      "135             Uruguay   3447496  Americas   76.384  10611.462990\n",
      "136           Venezuela  26084662  Americas   73.747  11415.805690\n",
      "137             Vietnam  85262356      Asia   74.249   2441.576404\n",
      "138  West Bank and Gaza   4018332      Asia   73.422   3025.349798\n",
      "139         Yemen, Rep.  22211743      Asia   62.698   2280.769906\n",
      "\n",
      "[110 rows x 5 columns]\n"
     ]
    }
   ],
   "source": [
    "life_exp = df[(df['lifeExp'] > 50) & (df['lifeExp'] < 80)]\n",
    "print(life_exp)"
   ]
  },
  {
   "cell_type": "code",
   "execution_count": 8,
   "id": "771d635b-1763-419c-becc-65f301465e66",
   "metadata": {},
   "outputs": [
    {
     "name": "stdout",
     "output_type": "stream",
     "text": [
      "           country         pop continent  lifeExp     gdpPercap\n",
      "44          France    61083916    Europe   80.657  30470.016700\n",
      "58           India  1110396331      Asia   64.698   2452.210407\n",
      "134  United States   301139947  Americas   78.242  42951.653090\n"
     ]
    }
   ],
   "source": [
    "countries_df = df[df['country'].isin(['India', 'United States', 'France'])]\n",
    "print(countries_df)"
   ]
  },
  {
   "cell_type": "code",
   "execution_count": 10,
   "id": "03bb25f0-7fbb-4da5-bdfd-6f6c32cee2f8",
   "metadata": {},
   "outputs": [
    {
     "name": "stdout",
     "output_type": "stream",
     "text": [
      "       country       pop continent  lifeExp     gdpPercap\n",
      "0  Afghanistan  31889923      Asia   43.828    974.580338\n",
      "1      Albania   3600523    Europe   76.423   5937.029526\n",
      "2      Algeria  33333216    Africa   72.301   6223.367465\n",
      "3       Angola  12420476    Africa   42.731   4797.231267\n",
      "4    Argentina  40301927  Americas   75.320  12779.379640\n",
      "5    Australia  20434176   Oceania   81.235  34435.367440\n",
      "6      Austria   8199783    Europe   79.829  36126.492700\n"
     ]
    }
   ],
   "source": [
    "a_countries = df[df['country'].str.startswith('A')]\n",
    "print(a_countries)"
   ]
  },
  {
   "cell_type": "code",
   "execution_count": 14,
   "id": "081f9153-e1ee-46d9-8b90-d65085a3f6a2",
   "metadata": {},
   "outputs": [
    {
     "name": "stdout",
     "output_type": "stream",
     "text": [
      "              gdpPercap                                 pop              \\\n",
      "                    min          max          mean      min         max   \n",
      "continent                                                                 \n",
      "Africa       277.551859  13206.48452   3089.032605   199579   135031164   \n",
      "Americas    1201.637154  42951.65309  11003.031625  1056608   301139947   \n",
      "Asia         944.000000  47306.98978  12473.026870   708573  1318683096   \n",
      "Europe      5937.029526  49357.19017  25054.481636   301931    82400996   \n",
      "Oceania    25185.009110  34435.36744  29810.188275  4115771    20434176   \n",
      "\n",
      "                         \n",
      "                   mean  \n",
      "continent                \n",
      "Africa     1.787576e+07  \n",
      "Americas   3.595485e+07  \n",
      "Asia       1.155138e+08  \n",
      "Europe     1.953662e+07  \n",
      "Oceania    1.227497e+07  \n"
     ]
    }
   ],
   "source": [
    "continent_stats = df.groupby('continent').agg({'gdpPercap': ['min', 'max', 'mean'],'pop': ['min', 'max', 'mean']})\n",
    "print(continent_stats)"
   ]
  },
  {
   "cell_type": "code",
   "execution_count": 15,
   "id": "12d60b8f-18d6-4a52-842f-a244dd50deeb",
   "metadata": {},
   "outputs": [
    {
     "name": "stdout",
     "output_type": "stream",
     "text": [
      "                country       pop  lifeExp\n",
      "0           Afghanistan  31889923   43.828\n",
      "1               Albania   3600523   76.423\n",
      "2               Algeria  33333216   72.301\n",
      "3                Angola  12420476   42.731\n",
      "4             Argentina  40301927   75.320\n",
      "..                  ...       ...      ...\n",
      "137             Vietnam  85262356   74.249\n",
      "138  West Bank and Gaza   4018332   73.422\n",
      "139         Yemen, Rep.  22211743   62.698\n",
      "140              Zambia  11746035   42.384\n",
      "141            Zimbabwe  12311143   43.487\n",
      "\n",
      "[142 rows x 3 columns]\n"
     ]
    }
   ],
   "source": [
    "pop_life_exp = df[['country', 'pop', 'lifeExp']]\n",
    "print(pop_life_exp)"
   ]
  },
  {
   "cell_type": "code",
   "execution_count": 16,
   "id": "555fdb92-9484-440f-8d9b-b933e63822bb",
   "metadata": {},
   "outputs": [
    {
     "name": "stdout",
     "output_type": "stream",
     "text": [
      "                country       pop continent  lifeExp     gdpPercap\n",
      "0           Afghanistan  31889923      Asia   43.828    974.580338\n",
      "1               Albania   3600523    Europe   76.423   5937.029526\n",
      "2               Algeria  33333216    Africa   72.301   6223.367465\n",
      "3                Angola  12420476    Africa   42.731   4797.231267\n",
      "4             Argentina  40301927  Americas   75.320  12779.379640\n",
      "..                  ...       ...       ...      ...           ...\n",
      "137             Vietnam  85262356      Asia   74.249   2441.576404\n",
      "138  West Bank and Gaza   4018332      Asia   73.422   3025.349798\n",
      "139         Yemen, Rep.  22211743      Asia   62.698   2280.769906\n",
      "140              Zambia  11746035    Africa   42.384   1271.211593\n",
      "141            Zimbabwe  12311143    Africa   43.487    469.709298\n",
      "\n",
      "[142 rows x 5 columns]\n"
     ]
    }
   ],
   "source": [
    "sorted_df = df.sort_values(by=['country', 'gdpPercap'], ascending=[True, False])\n",
    "print(sorted_df)"
   ]
  },
  {
   "cell_type": "code",
   "execution_count": 17,
   "id": "1590fb18-4a57-4415-9285-097a43bffe54",
   "metadata": {},
   "outputs": [
    {
     "name": "stdout",
     "output_type": "stream",
     "text": [
      "              country         pop continent  lifeExp     gdpPercap\n",
      "24              China  1318683096      Asia   72.961   4959.114854\n",
      "58              India  1110396331      Asia   64.698   2452.210407\n",
      "134     United States   301139947  Americas   78.242  42951.653090\n",
      "59          Indonesia   223547000      Asia   70.650   3540.651564\n",
      "14             Brazil   190010647  Americas   72.390   9065.800825\n",
      "97           Pakistan   169270617      Asia   65.483   2605.947580\n",
      "8          Bangladesh   150448339      Asia   64.062   1391.253792\n",
      "94            Nigeria   135031164    Africa   46.859   2013.977305\n",
      "66              Japan   127467972      Asia   82.603  31656.068060\n",
      "82             Mexico   108700891  Americas   76.195  11977.574960\n",
      "101       Philippines    91077287      Asia   71.688   3190.481016\n",
      "137           Vietnam    85262356      Asia   74.249   2441.576404\n",
      "47            Germany    82400996    Europe   79.406  32170.374420\n",
      "38              Egypt    80264543    Africa   71.338   5581.180998\n",
      "42           Ethiopia    76511887    Africa   52.947    690.805576\n",
      "131            Turkey    71158647    Europe   71.777   8458.276384\n",
      "60               Iran    69453570      Asia   70.964  11605.714490\n",
      "127          Thailand    65068149      Asia   70.616   7458.396327\n",
      "27   Congo, Dem. Rep.    64606759    Africa   46.462    277.551859\n",
      "44             France    61083916    Europe   80.657  30470.016700\n"
     ]
    }
   ],
   "source": [
    "top_20_popl= df.sort_values(by='pop', ascending=False).head(20)\n",
    "print(top_20_popl)"
   ]
  },
  {
   "cell_type": "code",
   "execution_count": 19,
   "id": "261ea573-cf49-4103-897c-95b70f9c271b",
   "metadata": {},
   "outputs": [
    {
     "name": "stdout",
     "output_type": "stream",
     "text": [
      "       country       pop continent  lifeExp     gdpPercap\n",
      "0  Afghanistan  31889923      Asia   43.828    974.580338\n",
      "1      Albania   3600523    Europe   76.423   5937.029526\n",
      "2      Algeria  33333216    Africa   72.301   6223.367465\n",
      "4    Argentina  40301927  Americas   75.320  12779.379640\n",
      "5    Australia  20434176   Oceania   81.235  34435.367440\n"
     ]
    }
   ],
   "source": [
    "df = df[df['country'] != 'Angola']\n",
    "print(df.head())"
   ]
  },
  {
   "cell_type": "code",
   "execution_count": 20,
   "id": "d92ad206-bc62-4c6a-b866-f80fb1c0c9db",
   "metadata": {},
   "outputs": [
    {
     "name": "stdout",
     "output_type": "stream",
     "text": [
      "       Country       Pop Continent  Lifeexp     Gdppercap\n",
      "0  Afghanistan  31889923      Asia   43.828    974.580338\n",
      "1      Albania   3600523    Europe   76.423   5937.029526\n",
      "2      Algeria  33333216    Africa   72.301   6223.367465\n",
      "4    Argentina  40301927  Americas   75.320  12779.379640\n",
      "5    Australia  20434176   Oceania   81.235  34435.367440\n"
     ]
    }
   ],
   "source": [
    "df.columns = [col.title() for col in df.columns]\n",
    "print(df.head())"
   ]
  },
  {
   "cell_type": "code",
   "execution_count": 29,
   "id": "d3c6149d-28ae-49f3-aec5-5977a332b24b",
   "metadata": {},
   "outputs": [
    {
     "name": "stdout",
     "output_type": "stream",
     "text": [
      "       Country  Population Continent  Lifeexp    GDP_Percap\n",
      "0  Afghanistan    31889923      Asia   43.828    974.580338\n",
      "1      Albania     3600523    Europe   76.423   5937.029526\n",
      "2      Algeria    33333216    Africa   76.301   6223.367465\n",
      "4    Argentina    40301927  Americas   75.320  12779.379640\n",
      "5    Australia    20434176   Oceania   81.235  34435.367440\n"
     ]
    },
    {
     "name": "stderr",
     "output_type": "stream",
     "text": [
      "C:\\Users\\dbda.STUDENTSDC\\AppData\\Local\\Temp\\ipykernel_22868\\2140671891.py:1: SettingWithCopyWarning: \n",
      "A value is trying to be set on a copy of a slice from a DataFrame\n",
      "\n",
      "See the caveats in the documentation: https://pandas.pydata.org/pandas-docs/stable/user_guide/indexing.html#returning-a-view-versus-a-copy\n",
      "  df.rename(columns={'Pop': 'Population', 'Gdppercap': 'GDP_Percap'}, inplace=True)\n"
     ]
    }
   ],
   "source": [
    "df.rename(columns={'Pop': 'Population', 'Gdppercap': 'GDP_Percap'}, inplace=True)\n",
    "print(df.head())"
   ]
  },
  {
   "cell_type": "code",
   "execution_count": 30,
   "id": "5b9d3bda-b027-4b2c-90d1-f20b30f62018",
   "metadata": {},
   "outputs": [
    {
     "name": "stdout",
     "output_type": "stream",
     "text": [
      "         Country  Lifeexp\n",
      "2        Algeria   78.301\n",
      "10         Benin   62.728\n",
      "13      Botswana   56.728\n",
      "16  Burkina Faso   58.295\n",
      "17       Burundi   55.580\n"
     ]
    }
   ],
   "source": [
    "df.loc[df['Continent'] == 'Africa', 'Lifeexp'] += 2\n",
    "print(df[df['Continent'] == 'Africa'][['Country', 'Lifeexp']].head())"
   ]
  },
  {
   "cell_type": "code",
   "execution_count": 32,
   "id": "5c45a632-9153-40dd-96d5-9b5188990043",
   "metadata": {},
   "outputs": [
    {
     "name": "stdout",
     "output_type": "stream",
     "text": [
      "No rows with NA values found in the DataFrame.\n"
     ]
    }
   ],
   "source": [
    "na_rows = df[df.isna().any(axis=1)]\n",
    "if na_rows.empty:\n",
    "    print(\"No rows with NA values found in the DataFrame.\")\n",
    "else:\n",
    "    print(\"Rows with NA values:\")\n",
    "    print(na_rows)"
   ]
  },
  {
   "cell_type": "code",
   "execution_count": 33,
   "id": "32d484bc-5ee7-44f5-856b-9a1fefcf00ae",
   "metadata": {},
   "outputs": [
    {
     "name": "stdout",
     "output_type": "stream",
     "text": [
      "No NA values to fill in the original DataFrame.\n"
     ]
    }
   ],
   "source": [
    "if not df.isna().values.any():\n",
    "    print(\"No NA values to fill in the original DataFrame.\")\n",
    "else:\n",
    "    # Create a new copy for this operation\n",
    "    df_filled = df.copy()\n",
    "    numeric_cols = df_filled.select_dtypes(include=['number']).columns\n",
    "    df_filled[numeric_cols] = df_filled[numeric_cols].fillna(0)\n",
    "    print(df_filled.isna().sum())"
   ]
  },
  {
   "cell_type": "code",
   "execution_count": null,
   "id": "f9c72877-008c-4b49-8898-811550cf3ad9",
   "metadata": {},
   "outputs": [],
   "source": []
  }
 ],
 "metadata": {
  "kernelspec": {
   "display_name": "Python [conda env:base] *",
   "language": "python",
   "name": "conda-base-py"
  },
  "language_info": {
   "codemirror_mode": {
    "name": "ipython",
    "version": 3
   },
   "file_extension": ".py",
   "mimetype": "text/x-python",
   "name": "python",
   "nbconvert_exporter": "python",
   "pygments_lexer": "ipython3",
   "version": "3.13.5"
  }
 },
 "nbformat": 4,
 "nbformat_minor": 5
}
